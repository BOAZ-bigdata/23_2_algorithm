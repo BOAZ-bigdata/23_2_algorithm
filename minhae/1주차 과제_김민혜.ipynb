{
 "cells": [
  {
   "cell_type": "markdown",
   "id": "8424a26b",
   "metadata": {},
   "source": [
    "p.35 문제 1번. 숫자의 합 구하기"
   ]
  },
  {
   "cell_type": "code",
   "execution_count": 8,
   "id": "7ee13c11",
   "metadata": {},
   "outputs": [
    {
     "name": "stdout",
     "output_type": "stream",
     "text": [
      "5\n",
      "54321\n",
      "15\n"
     ]
    }
   ],
   "source": [
    "count = int(input())\n",
    "number = list(input())\n",
    "total = 0\n",
    "\n",
    "for i in range(count):\n",
    "    total += int(number[i])\n",
    "    \n",
    "print(total)"
   ]
  },
  {
   "cell_type": "markdown",
   "id": "ffa5bdc8",
   "metadata": {},
   "source": [
    "p.38 문제 2번. 평균 구하기"
   ]
  },
  {
   "cell_type": "code",
   "execution_count": 10,
   "id": "b8a8fe76",
   "metadata": {},
   "outputs": [
    {
     "name": "stdout",
     "output_type": "stream",
     "text": [
      "3\n",
      "40 80 60\n",
      "75.0\n"
     ]
    }
   ],
   "source": [
    "number = int(input())\n",
    "scores = list(map(int, input().split()))\n",
    "max_scores = max(scores)\n",
    "new_total = 0\n",
    "\n",
    "for i in scores:\n",
    "    a = i/max_scores*100\n",
    "    new_total += a\n",
    "    \n",
    "print(new_total/number)"
   ]
  },
  {
   "cell_type": "markdown",
   "id": "619f8b6a",
   "metadata": {},
   "source": [
    "p.43 문제 3번. 구간 합 구하기 1"
   ]
  },
  {
   "cell_type": "code",
   "execution_count": 17,
   "id": "20632cbb",
   "metadata": {},
   "outputs": [
    {
     "ename": "ValueError",
     "evalue": "not enough values to unpack (expected 2, got 0)",
     "output_type": "error",
     "traceback": [
      "\u001b[0;31m---------------------------------------------------------------------------\u001b[0m",
      "\u001b[0;31mValueError\u001b[0m                                Traceback (most recent call last)",
      "Input \u001b[0;32mIn [17]\u001b[0m, in \u001b[0;36m<cell line: 5>\u001b[0;34m()\u001b[0m\n\u001b[1;32m      2\u001b[0m \u001b[38;5;28;01mimport\u001b[39;00m \u001b[38;5;21;01msys\u001b[39;00m\n\u001b[1;32m      4\u001b[0m \u001b[38;5;28minput\u001b[39m\u001b[38;5;241m=\u001b[39m\u001b[38;5;28;01mlambda\u001b[39;00m:sys\u001b[38;5;241m.\u001b[39mstdin\u001b[38;5;241m.\u001b[39mreadline()\u001b[38;5;241m.\u001b[39mrstrip()\n\u001b[0;32m----> 5\u001b[0m N_number, M \u001b[38;5;241m=\u001b[39m \u001b[38;5;28mmap\u001b[39m(\u001b[38;5;28mint\u001b[39m, \u001b[38;5;28minput\u001b[39m()\u001b[38;5;241m.\u001b[39msplit())\n\u001b[1;32m      6\u001b[0m array \u001b[38;5;241m=\u001b[39m \u001b[38;5;28mlist\u001b[39m(\u001b[38;5;28mmap\u001b[39m(\u001b[38;5;28mint\u001b[39m,\u001b[38;5;28minput\u001b[39m()\u001b[38;5;241m.\u001b[39msplit()))\n\u001b[1;32m      7\u001b[0m s \u001b[38;5;241m=\u001b[39m [\u001b[38;5;241m0\u001b[39m]\n",
      "\u001b[0;31mValueError\u001b[0m: not enough values to unpack (expected 2, got 0)"
     ]
    }
   ],
   "source": [
    "# sys 라이브러리 호출\n",
    "import sys\n",
    "\n",
    "input=lambda:sys.stdin.readline().rstrip()\n",
    "N_number, M = map(int, input().split())\n",
    "array = list(map(int,input().split()))\n",
    "s = [0]\n",
    "summation = 0\n",
    "\n",
    "for i in array:\n",
    "    summation += i\n",
    "    s.append(summation)\n",
    "    \n",
    "for i in range(M):\n",
    "    a, b = map(int, input().split())\n",
    "    print(s[b]-s[a-1])"
   ]
  },
  {
   "cell_type": "markdown",
   "id": "db3cdd5d",
   "metadata": {},
   "source": [
    "p.45 문제 4번. 구간 합 구하기2\n",
    "<br>\n",
    "<br>\n",
    "너무 어려워서 책 참고"
   ]
  },
  {
   "cell_type": "code",
   "execution_count": 2,
   "id": "228fa1c2",
   "metadata": {},
   "outputs": [
    {
     "ename": "ValueError",
     "evalue": "not enough values to unpack (expected 2, got 0)",
     "output_type": "error",
     "traceback": [
      "\u001b[0;31m---------------------------------------------------------------------------\u001b[0m",
      "\u001b[0;31mValueError\u001b[0m                                Traceback (most recent call last)",
      "Input \u001b[0;32mIn [2]\u001b[0m, in \u001b[0;36m<cell line: 3>\u001b[0;34m()\u001b[0m\n\u001b[1;32m      1\u001b[0m \u001b[38;5;28;01mimport\u001b[39;00m \u001b[38;5;21;01msys\u001b[39;00m\n\u001b[1;32m      2\u001b[0m \u001b[38;5;28minput\u001b[39m \u001b[38;5;241m=\u001b[39m \u001b[38;5;28;01mlambda\u001b[39;00m:sys\u001b[38;5;241m.\u001b[39mstdin\u001b[38;5;241m.\u001b[39mreadline()\u001b[38;5;241m.\u001b[39mrstrip()\n\u001b[0;32m----> 3\u001b[0m N, M \u001b[38;5;241m=\u001b[39m \u001b[38;5;28mmap\u001b[39m(\u001b[38;5;28mint\u001b[39m, \u001b[38;5;28minput\u001b[39m()\u001b[38;5;241m.\u001b[39msplit())\n\u001b[1;32m      4\u001b[0m A \u001b[38;5;241m=\u001b[39m [[\u001b[38;5;241m0\u001b[39m]\u001b[38;5;241m*\u001b[39m(n\u001b[38;5;241m+\u001b[39m\u001b[38;5;241m1\u001b[39m)]\n\u001b[1;32m      5\u001b[0m D \u001b[38;5;241m=\u001b[39m [[\u001b[38;5;241m0\u001b[39m]\u001b[38;5;241m*\u001b[39m(n\u001b[38;5;241m+\u001b[39m\u001b[38;5;241m1\u001b[39m) \u001b[38;5;28;01mfor\u001b[39;00m i \u001b[38;5;129;01min\u001b[39;00m \u001b[38;5;28mrange\u001b[39m(n\u001b[38;5;241m+\u001b[39m\u001b[38;5;241m1\u001b[39m)]\n",
      "\u001b[0;31mValueError\u001b[0m: not enough values to unpack (expected 2, got 0)"
     ]
    }
   ],
   "source": [
    "import sys\n",
    "input = lambda:sys.stdin.readline().rstrip()\n",
    "N, M = map(int, input().split())\n",
    "A = [[0]*(n+1)]\n",
    "D = [[0]*(n+1) for i in range(n+1)]\n",
    "\n",
    "for s in range(n):\n",
    "    row = [0] + [int(x) for x in input().split()]\n",
    "    A.append(row)\n",
    "    \n",
    "for k in range(1, n+1):\n",
    "    for _ in range(1, n+1):\n",
    "        D[k][_] = D[K][_ - 1] + D[k-1][_] + D[k-1][_-1] + A[k][_]\n",
    "        \n",
    "for x in range(M):\n",
    "    x1, y1, x2, y2 = map(int, input().split())\n",
    "    result = D[x2][y2] - D[x1-1][y2] - D[x2][y1-1] + D[x1-1][y1-1]\n",
    "    print(result)"
   ]
  },
  {
   "cell_type": "markdown",
   "id": "5ddcdfe8",
   "metadata": {},
   "source": [
    "p.54 문제 6번. 연속된 자연수의 합 구하기"
   ]
  },
  {
   "cell_type": "code",
   "execution_count": 5,
   "id": "3e307075",
   "metadata": {},
   "outputs": [
    {
     "ename": "ValueError",
     "evalue": "invalid literal for int() with base 10: ''",
     "output_type": "error",
     "traceback": [
      "\u001b[0;31m---------------------------------------------------------------------------\u001b[0m",
      "\u001b[0;31mValueError\u001b[0m                                Traceback (most recent call last)",
      "Input \u001b[0;32mIn [5]\u001b[0m, in \u001b[0;36m<cell line: 1>\u001b[0;34m()\u001b[0m\n\u001b[0;32m----> 1\u001b[0m N \u001b[38;5;241m=\u001b[39m \u001b[38;5;28;43mint\u001b[39;49m\u001b[43m(\u001b[49m\u001b[38;5;28;43minput\u001b[39;49m\u001b[43m(\u001b[49m\u001b[43m)\u001b[49m\u001b[43m)\u001b[49m\n\u001b[1;32m      2\u001b[0m count \u001b[38;5;241m=\u001b[39m \u001b[38;5;241m1\u001b[39m\n\u001b[1;32m      3\u001b[0m start \u001b[38;5;241m=\u001b[39m \u001b[38;5;241m1\u001b[39m\n",
      "\u001b[0;31mValueError\u001b[0m: invalid literal for int() with base 10: ''"
     ]
    }
   ],
   "source": [
    "N = int(input())\n",
    "count = 1\n",
    "start = 1\n",
    "end = 1\n",
    "summation = 1\n",
    "\n",
    "while end != N:\n",
    "    if summation == N:\n",
    "        count += 1\n",
    "        end += 1\n",
    "        summation += end\n",
    "    elif summation > N:\n",
    "        summation -= start\n",
    "        start += 1\n",
    "    else:\n",
    "        end += 1\n",
    "        summation += end\n",
    "        \n",
    "print(count)"
   ]
  },
  {
   "cell_type": "markdown",
   "id": "bff3d64b",
   "metadata": {},
   "source": []
  }
 ],
 "metadata": {
  "kernelspec": {
   "display_name": "Python 3 (ipykernel)",
   "language": "python",
   "name": "python3"
  },
  "language_info": {
   "codemirror_mode": {
    "name": "ipython",
    "version": 3
   },
   "file_extension": ".py",
   "mimetype": "text/x-python",
   "name": "python",
   "nbconvert_exporter": "python",
   "pygments_lexer": "ipython3",
   "version": "3.10.6"
  }
 },
 "nbformat": 4,
 "nbformat_minor": 5
}
